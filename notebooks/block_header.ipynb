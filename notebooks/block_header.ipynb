{
 "cells": [
  {
   "cell_type": "code",
   "execution_count": 1,
   "id": "b9022e65-c160-4158-98e3-adc6bb4e839d",
   "metadata": {},
   "outputs": [],
   "source": [
    "import pandas as pd\n",
    "import numpy as np\n",
    "import matplotlib.pyplot as plt\n",
    "\n",
    "import sys\n",
    "import os\n",
    "\n",
    "module_path = os.path.abspath('../') # root directory\n",
    "if module_path not in sys.path:\n",
    "    sys.path.append(module_path)\n",
    "\n",
    "DATA_PATH  = os.path.abspath('../data')\n",
    "\n",
    "from src.block_collector.config import flr_explorer_url"
   ]
  },
  {
   "cell_type": "markdown",
   "id": "1623cfe6-c2b6-4542-b9eb-246424dc4ca6",
   "metadata": {},
   "source": [
    "#  Extract block info"
   ]
  },
  {
   "cell_type": "code",
   "execution_count": 47,
   "id": "d43ba35b-520e-4580-a61c-272378cc2c78",
   "metadata": {},
   "outputs": [
    {
     "data": {
      "text/plain": [
       "'/home/horia/Documents/Repos/github-flare-research/block-collector/notebooks'"
      ]
     },
     "execution_count": 47,
     "metadata": {},
     "output_type": "execute_result"
    }
   ],
   "source": [
    "import os\n",
    "\n",
    "os.path.abspath('')"
   ]
  },
  {
   "cell_type": "code",
   "execution_count": 6,
   "id": "03e0e131-0c2e-4c8e-b1bd-b6042ef75493",
   "metadata": {},
   "outputs": [
    {
     "name": "stdout",
     "output_type": "stream",
     "text": [
      "HTTP Request failed: 403 Client Error: Forbidden for url: https://flarescan.com/api/v2/blocks/43700858\n"
     ]
    }
   ],
   "source": [
    "import requests\n",
    "\n",
    "# ── Configuration ──────────────────────────────────────────────────────────\n",
    "BLOCK_NUMBER = 43700858 # The C-chain block you are interested in\n",
    "\n",
    "# Flarescan API endpoint for a specific block\n",
    "# Note: This is an unofficial and undocumented endpoint derived from\n",
    "# inspecting the explorer's network traffic. It may change without notice.\n",
    "url = f\"https://flarescan.com/api/v2/blocks/{BLOCK_NUMBER}\"\n",
    "\n",
    "try:\n",
    "    # ── 1) Query the Flarescan API ───────────────────────────────────────\n",
    "    response = requests.get(url)\n",
    "    response.raise_for_status()  # Check for HTTP errors\n",
    "    \n",
    "    block_data = response.json()\n",
    "    \n",
    "    # ── 2) Extract the pChainHeight ──────────────────────────────────────\n",
    "    # The API provides the P-Chain height directly in the response.\n",
    "    # We look for the 'p_chain_height' key.\n",
    "    p_chain_height = block_data.get('p_chain_height')\n",
    "\n",
    "    if p_chain_height is not None:\n",
    "        print(f\"✅ Success!\")\n",
    "        print(f\"For C-Chain Block: {BLOCK_NUMBER}\")\n",
    "        print(f\"The corresponding P-Chain Height is: {p_chain_height}\")\n",
    "    else:\n",
    "        print(\"❌ 'p_chain_height' not found in the Flarescan API response.\")\n",
    "\n",
    "except requests.exceptions.RequestException as e:\n",
    "    print(f\"HTTP Request failed: {e}\")\n",
    "except Exception as e:\n",
    "    print(f\"An error occurred: {e}\")"
   ]
  },
  {
   "cell_type": "code",
   "execution_count": 7,
   "id": "01aa75bc-c296-48b6-bdc5-241e5e6a26cb",
   "metadata": {},
   "outputs": [
    {
     "ename": "JSONDecodeError",
     "evalue": "Expecting value: line 1 column 1 (char 0)",
     "output_type": "error",
     "traceback": [
      "\u001b[31m---------------------------------------------------------------------------\u001b[39m",
      "\u001b[31mJSONDecodeError\u001b[39m                           Traceback (most recent call last)",
      "\u001b[36mFile \u001b[39m\u001b[32m~/Documents/Repos/github-flare-research/block-collector/.venv/lib/python3.12/site-packages/requests/models.py:974\u001b[39m, in \u001b[36mResponse.json\u001b[39m\u001b[34m(self, **kwargs)\u001b[39m\n\u001b[32m    973\u001b[39m \u001b[38;5;28;01mtry\u001b[39;00m:\n\u001b[32m--> \u001b[39m\u001b[32m974\u001b[39m     \u001b[38;5;28;01mreturn\u001b[39;00m \u001b[43mcomplexjson\u001b[49m\u001b[43m.\u001b[49m\u001b[43mloads\u001b[49m\u001b[43m(\u001b[49m\u001b[38;5;28;43mself\u001b[39;49m\u001b[43m.\u001b[49m\u001b[43mtext\u001b[49m\u001b[43m,\u001b[49m\u001b[43m \u001b[49m\u001b[43m*\u001b[49m\u001b[43m*\u001b[49m\u001b[43mkwargs\u001b[49m\u001b[43m)\u001b[49m\n\u001b[32m    975\u001b[39m \u001b[38;5;28;01mexcept\u001b[39;00m JSONDecodeError \u001b[38;5;28;01mas\u001b[39;00m e:\n\u001b[32m    976\u001b[39m     \u001b[38;5;66;03m# Catch JSON-related errors and raise as requests.JSONDecodeError\u001b[39;00m\n\u001b[32m    977\u001b[39m     \u001b[38;5;66;03m# This aliases json.JSONDecodeError and simplejson.JSONDecodeError\u001b[39;00m\n",
      "\u001b[36mFile \u001b[39m\u001b[32m/usr/lib/python3.12/json/__init__.py:346\u001b[39m, in \u001b[36mloads\u001b[39m\u001b[34m(s, cls, object_hook, parse_float, parse_int, parse_constant, object_pairs_hook, **kw)\u001b[39m\n\u001b[32m    343\u001b[39m \u001b[38;5;28;01mif\u001b[39;00m (\u001b[38;5;28mcls\u001b[39m \u001b[38;5;129;01mis\u001b[39;00m \u001b[38;5;28;01mNone\u001b[39;00m \u001b[38;5;129;01mand\u001b[39;00m object_hook \u001b[38;5;129;01mis\u001b[39;00m \u001b[38;5;28;01mNone\u001b[39;00m \u001b[38;5;129;01mand\u001b[39;00m\n\u001b[32m    344\u001b[39m         parse_int \u001b[38;5;129;01mis\u001b[39;00m \u001b[38;5;28;01mNone\u001b[39;00m \u001b[38;5;129;01mand\u001b[39;00m parse_float \u001b[38;5;129;01mis\u001b[39;00m \u001b[38;5;28;01mNone\u001b[39;00m \u001b[38;5;129;01mand\u001b[39;00m\n\u001b[32m    345\u001b[39m         parse_constant \u001b[38;5;129;01mis\u001b[39;00m \u001b[38;5;28;01mNone\u001b[39;00m \u001b[38;5;129;01mand\u001b[39;00m object_pairs_hook \u001b[38;5;129;01mis\u001b[39;00m \u001b[38;5;28;01mNone\u001b[39;00m \u001b[38;5;129;01mand\u001b[39;00m \u001b[38;5;129;01mnot\u001b[39;00m kw):\n\u001b[32m--> \u001b[39m\u001b[32m346\u001b[39m     \u001b[38;5;28;01mreturn\u001b[39;00m \u001b[43m_default_decoder\u001b[49m\u001b[43m.\u001b[49m\u001b[43mdecode\u001b[49m\u001b[43m(\u001b[49m\u001b[43ms\u001b[49m\u001b[43m)\u001b[49m\n\u001b[32m    347\u001b[39m \u001b[38;5;28;01mif\u001b[39;00m \u001b[38;5;28mcls\u001b[39m \u001b[38;5;129;01mis\u001b[39;00m \u001b[38;5;28;01mNone\u001b[39;00m:\n",
      "\u001b[36mFile \u001b[39m\u001b[32m/usr/lib/python3.12/json/decoder.py:337\u001b[39m, in \u001b[36mJSONDecoder.decode\u001b[39m\u001b[34m(self, s, _w)\u001b[39m\n\u001b[32m    333\u001b[39m \u001b[38;5;250m\u001b[39m\u001b[33;03m\"\"\"Return the Python representation of ``s`` (a ``str`` instance\u001b[39;00m\n\u001b[32m    334\u001b[39m \u001b[33;03mcontaining a JSON document).\u001b[39;00m\n\u001b[32m    335\u001b[39m \n\u001b[32m    336\u001b[39m \u001b[33;03m\"\"\"\u001b[39;00m\n\u001b[32m--> \u001b[39m\u001b[32m337\u001b[39m obj, end = \u001b[38;5;28;43mself\u001b[39;49m\u001b[43m.\u001b[49m\u001b[43mraw_decode\u001b[49m\u001b[43m(\u001b[49m\u001b[43ms\u001b[49m\u001b[43m,\u001b[49m\u001b[43m \u001b[49m\u001b[43midx\u001b[49m\u001b[43m=\u001b[49m\u001b[43m_w\u001b[49m\u001b[43m(\u001b[49m\u001b[43ms\u001b[49m\u001b[43m,\u001b[49m\u001b[43m \u001b[49m\u001b[32;43m0\u001b[39;49m\u001b[43m)\u001b[49m\u001b[43m.\u001b[49m\u001b[43mend\u001b[49m\u001b[43m(\u001b[49m\u001b[43m)\u001b[49m\u001b[43m)\u001b[49m\n\u001b[32m    338\u001b[39m end = _w(s, end).end()\n",
      "\u001b[36mFile \u001b[39m\u001b[32m/usr/lib/python3.12/json/decoder.py:355\u001b[39m, in \u001b[36mJSONDecoder.raw_decode\u001b[39m\u001b[34m(self, s, idx)\u001b[39m\n\u001b[32m    354\u001b[39m \u001b[38;5;28;01mexcept\u001b[39;00m \u001b[38;5;167;01mStopIteration\u001b[39;00m \u001b[38;5;28;01mas\u001b[39;00m err:\n\u001b[32m--> \u001b[39m\u001b[32m355\u001b[39m     \u001b[38;5;28;01mraise\u001b[39;00m JSONDecodeError(\u001b[33m\"\u001b[39m\u001b[33mExpecting value\u001b[39m\u001b[33m\"\u001b[39m, s, err.value) \u001b[38;5;28;01mfrom\u001b[39;00m\u001b[38;5;250m \u001b[39m\u001b[38;5;28;01mNone\u001b[39;00m\n\u001b[32m    356\u001b[39m \u001b[38;5;28;01mreturn\u001b[39;00m obj, end\n",
      "\u001b[31mJSONDecodeError\u001b[39m: Expecting value: line 1 column 1 (char 0)",
      "\nDuring handling of the above exception, another exception occurred:\n",
      "\u001b[31mJSONDecodeError\u001b[39m                           Traceback (most recent call last)",
      "\u001b[36mCell\u001b[39m\u001b[36m \u001b[39m\u001b[32mIn[7]\u001b[39m\u001b[32m, line 1\u001b[39m\n\u001b[32m----> \u001b[39m\u001b[32m1\u001b[39m \u001b[43mresponse\u001b[49m\u001b[43m.\u001b[49m\u001b[43mjson\u001b[49m\u001b[43m(\u001b[49m\u001b[43m)\u001b[49m\n",
      "\u001b[36mFile \u001b[39m\u001b[32m~/Documents/Repos/github-flare-research/block-collector/.venv/lib/python3.12/site-packages/requests/models.py:978\u001b[39m, in \u001b[36mResponse.json\u001b[39m\u001b[34m(self, **kwargs)\u001b[39m\n\u001b[32m    974\u001b[39m     \u001b[38;5;28;01mreturn\u001b[39;00m complexjson.loads(\u001b[38;5;28mself\u001b[39m.text, **kwargs)\n\u001b[32m    975\u001b[39m \u001b[38;5;28;01mexcept\u001b[39;00m JSONDecodeError \u001b[38;5;28;01mas\u001b[39;00m e:\n\u001b[32m    976\u001b[39m     \u001b[38;5;66;03m# Catch JSON-related errors and raise as requests.JSONDecodeError\u001b[39;00m\n\u001b[32m    977\u001b[39m     \u001b[38;5;66;03m# This aliases json.JSONDecodeError and simplejson.JSONDecodeError\u001b[39;00m\n\u001b[32m--> \u001b[39m\u001b[32m978\u001b[39m     \u001b[38;5;28;01mraise\u001b[39;00m RequestsJSONDecodeError(e.msg, e.doc, e.pos)\n",
      "\u001b[31mJSONDecodeError\u001b[39m: Expecting value: line 1 column 1 (char 0)"
     ]
    }
   ],
   "source": [
    "response.json()"
   ]
  },
  {
   "cell_type": "markdown",
   "id": "dfa3a2fd-0f98-400c-a1ab-e73af1d59d6b",
   "metadata": {},
   "source": [
    "## Extract block header"
   ]
  },
  {
   "cell_type": "code",
   "execution_count": 14,
   "id": "4da1197a-f8ca-4b29-8d1c-02e54575524b",
   "metadata": {},
   "outputs": [
    {
     "name": "stdout",
     "output_type": "stream",
     "text": [
      "Block 43700858 proposer reward address: 0x0100000000000000000000000000000000000000\n"
     ]
    }
   ],
   "source": [
    "from web3 import Web3\n",
    "from web3.middleware import ExtraDataToPOAMiddleware\n",
    "import requests\n",
    "\n",
    "# ── Configuration ─────────────────────────────────────────────────────────────\n",
    "C_CHAIN_RPC = \"https://flare-api.flare.network/ext/C/rpc\"\n",
    "P_CHAIN_RPC = \"https://flare-api.flare.network/ext/bc/P\"\n",
    "BLOCK_NUMBER = 43700858  # ← change to whichever block you need\n",
    "\n",
    "# ── 1) Set up Web3 + PoA middleware for C-Chain ───────────────────────────────\n",
    "w3 = Web3(Web3.HTTPProvider(C_CHAIN_RPC))\n",
    "w3.middleware_onion.inject(ExtraDataToPOAMiddleware(), layer=0)\n",
    "\n",
    "# ── 2) Fetch the block and pull out the proposer address ─────────────────────\n",
    "block = w3.eth.get_block(BLOCK_NUMBER)\n",
    "proposer_addr = block.miner\n",
    "print(f\"Block {BLOCK_NUMBER} proposer reward address: {proposer_addr}\")\n",
    "\n"
   ]
  },
  {
   "cell_type": "code",
   "execution_count": 15,
   "id": "fa5d23c5-c3ca-415b-a86a-58383ac770e5",
   "metadata": {},
   "outputs": [
    {
     "data": {
      "text/plain": [
       "AttributeDict({'baseFeePerGas': 25000000000,\n",
       " 'blockExtraData': '0x',\n",
       " 'blockGasCost': '0xf4240',\n",
       " 'difficulty': 1,\n",
       " 'extDataGasUsed': '0x0',\n",
       " 'extDataHash': '0x56e81f171bcc55a6ff8345e692c0f86e5b48e01b996cadc001622fb5e363b421',\n",
       " 'proofOfAuthorityData': HexBytes('0x000000000000000000000000000beafc000000000010a19300000000002065d000000000000a43aa000000000000000000000000000edc0f000000000005568000000000000c8e770000000000000000'),\n",
       " 'gasLimit': 15000000,\n",
       " 'gasUsed': 1581427,\n",
       " 'hash': HexBytes('0x4bc13c9bc6b1b5d0007a29640d9897fca9766028e3ffe32a34ad8f7143b572dd'),\n",
       " 'logsBloom': HexBytes('0x00020000000040000000000020000000000000000000000000000004000000000000000000000000000000004000000000000000000000000000000000000000000000000000010000400000000000000000000000000000000080000000000800000000000000000000000000000000000000800000000001000000000000000000000000000000000000000000000000000000000000000004000400000000080000000000000008000000200000000000000000000000000000000000000000000200000000000000000000000040000000000000000000000000000000000000000000000000000000000000000000000000000000000000000000000000'),\n",
       " 'miner': '0x0100000000000000000000000000000000000000',\n",
       " 'mixHash': HexBytes('0x0000000000000000000000000000000000000000000000000000000000000000'),\n",
       " 'nonce': HexBytes('0x0000000000000000'),\n",
       " 'number': 43700858,\n",
       " 'parentHash': HexBytes('0xc0caa22b553564b333821f9c7e0298558f51875dc1cb6c13d63a68b73882d57f'),\n",
       " 'receiptsRoot': HexBytes('0x32871633fbd22e4075e9a28187dba8f4d146391120f08fad24effbfa31d093eb'),\n",
       " 'sha3Uncles': HexBytes('0x1dcc4de8dec75d7aab85b567b6ccd41ad312451b948a7413f0a142fd40d49347'),\n",
       " 'size': 25399,\n",
       " 'stateRoot': HexBytes('0x7132e620e31b971cee2960aa0d84afa40ccd64a5b4c58fcda2a80c1a6fc4e126'),\n",
       " 'timestamp': 1751017108,\n",
       " 'totalDifficulty': 43700858,\n",
       " 'transactions': [HexBytes('0xf42563beccb80cb4726ddfb9f36fc281253ff1d8b52512a4d21e6696dab4d323'),\n",
       "  HexBytes('0x950db77c1cc18c1d9df0bbbaccfb038f913a4753e76e33aaad12e5757f90856b'),\n",
       "  HexBytes('0x4285bee707d00cf71a8df762921471ce74c39d5a6d10fa68fc750e5a1a079aa1'),\n",
       "  HexBytes('0x1d99841437ad1e60cc0a49f256c523908b61c291e87ee493f2ebc03fb0508769'),\n",
       "  HexBytes('0x0761d39ff1987ec09e33e9c6aea814b7e76ff290790403db7e6a97f8f3cf440c'),\n",
       "  HexBytes('0xaa52323dfe8b9ce95be04f33e761b649af17731aeafcb6c3b1cf883413996a99'),\n",
       "  HexBytes('0xec4af6ea3c08c325999fd925f314746377e5921c2d02f43c1621ab99cef3f172'),\n",
       "  HexBytes('0x04789d1d744d86fcaa4f3048c265ef21c74317224475adbb439f6c6e2e723572'),\n",
       "  HexBytes('0x06f87ec5c7344621c0a3612452ba4bf4d65ec795ad36f3dd6c2c95631b258931'),\n",
       "  HexBytes('0xc34393c173825ea816a903854d4812716d091d2d693137d38ddf03dea527b2c0'),\n",
       "  HexBytes('0x6cf85885e19ec07c336f287e0a51f6289bdbfbec3d4c6c4d0ca397d5b5b5a4a9'),\n",
       "  HexBytes('0x2186b0c8670c230101e2e0c04315e02dd0c75966f05c983c916dab9081af4bbc'),\n",
       "  HexBytes('0x9b91da0c94ea4f4039e8dd3f28a041ecae8ab72d55922ae565167bd06480471b'),\n",
       "  HexBytes('0x0dd0c5087d07c35d38ce1a0d64f3bacb2218574b0e45a320c72c8857cf12d896'),\n",
       "  HexBytes('0x5ba626bd9efdf193d1679c9f6b3431f6c637884c8244fafc0a53e7ffffe4e2c0'),\n",
       "  HexBytes('0x487e07e39d5dd813e3f6cf8244f3e1f0dafcc7e8bbb853966033426bd5494a2b'),\n",
       "  HexBytes('0xe51cd416e3f088110e920e33a1d45c98e3ab559c34acf0b5e115cd1e94982501'),\n",
       "  HexBytes('0x6a4c8e6324cf2747da4abf95eb4a9f63362e27a785ea4d260280bee984460c62'),\n",
       "  HexBytes('0x8d05978625ddb93d09b9455c2ed8fcd7e633697d9165a7c80620954d520a3d8c'),\n",
       "  HexBytes('0x1aec902b30b84b01a1ca80318de41c16715e84c5a1c7eb85659dbaa65ef14f82'),\n",
       "  HexBytes('0x39df1839f7e6674eb88b8856155d6f7a57f61d5bbb62ae59070957383ea9111d')],\n",
       " 'transactionsRoot': HexBytes('0x8128c289f575129802169423f00004acf2ff344ecadcf72bc36bed2f6cd8ffd0'),\n",
       " 'uncles': []})"
      ]
     },
     "execution_count": 15,
     "metadata": {},
     "output_type": "execute_result"
    }
   ],
   "source": [
    "block"
   ]
  },
  {
   "cell_type": "code",
   "execution_count": 16,
   "id": "217b61fe-7726-4622-87bc-91f571ef7cba",
   "metadata": {},
   "outputs": [
    {
     "name": "stdout",
     "output_type": "stream",
     "text": [
      "Fetched 112 validators from P-Chain\n",
      "\n",
      "⚠️  No validator’s reward owner matched that address.\n"
     ]
    }
   ],
   "source": [
    "# ── 3) Call the P-Chain to get all current validators ────────────────────────\n",
    "def get_current_validators():\n",
    "    payload = {\n",
    "        \"jsonrpc\": \"2.0\",\n",
    "        \"method\":  \"platform.getCurrentValidators\",\n",
    "        \"params\":  [],\n",
    "        \"id\":      1\n",
    "    }\n",
    "    resp = requests.post(P_CHAIN_RPC, json=payload)\n",
    "    resp.raise_for_status()\n",
    "    return resp.json()[\"result\"][\"validators\"]\n",
    "\n",
    "validators = get_current_validators()\n",
    "print(f\"Fetched {len(validators)} validators from P-Chain\")\n",
    "\n",
    "# ── 4) Match miner address to validationRewardOwner.addresses ────────────────\n",
    "match = next(\n",
    "    (\n",
    "        v for v in validators\n",
    "        if proposer_addr.lower() in\n",
    "           [addr.lower() for addr in v[\"validationRewardOwner\"][\"addresses\"]]\n",
    "    ),\n",
    "    None\n",
    ")\n",
    "\n",
    "# ── 5) Print out the result ─────────────────────────────────────────────────\n",
    "if match:\n",
    "    print(\"\\n✅ Found matching validator:\")\n",
    "    print(f\"  Node ID:    {match['nodeID']}\")\n",
    "    print(f\"  Start Time: {match['startTime']}\")\n",
    "    print(f\"  End Time:   {match['endTime']}\")\n",
    "    print(\"  Reward Addresses:\")\n",
    "    for addr in match[\"validationRewardOwner\"][\"addresses\"]:\n",
    "        print(f\"   - {addr}\")\n",
    "else:\n",
    "    print(\"\\n⚠️  No validator’s reward owner matched that address.\")\n"
   ]
  },
  {
   "cell_type": "code",
   "execution_count": 21,
   "id": "c196d68e-27f8-428e-8226-6eba21ed87a2",
   "metadata": {},
   "outputs": [
    {
     "data": {
      "text/plain": [
       "{'txID': 'ZWYU4VBNxrGfGW9ZnroxUxZhBBEqxiwEvp8XbxNDNkwkQRJoS',\n",
       " 'startTime': '1746014820',\n",
       " 'endTime': '1751281200',\n",
       " 'weight': '4295200000000000',\n",
       " 'nodeID': 'NodeID-CtSfUZd8nvr4RDaQnKRiP9cae15Nrb1bX',\n",
       " 'stakeAmount': '4295200000000000',\n",
       " 'rewardOwner': {'locktime': '0',\n",
       "  'threshold': '1',\n",
       "  'addresses': ['P-flare1njkr3hlgge6wswrcsle2qpn4ufwagrqatfd7d0']},\n",
       " 'validationRewardOwner': {'locktime': '0',\n",
       "  'threshold': '1',\n",
       "  'addresses': ['P-flare1njkr3hlgge6wswrcsle2qpn4ufwagrqatfd7d0']},\n",
       " 'delegationRewardOwner': {'locktime': '0',\n",
       "  'threshold': '1',\n",
       "  'addresses': ['P-flare1njkr3hlgge6wswrcsle2qpn4ufwagrqatfd7d0']},\n",
       " 'potentialReward': '0',\n",
       " 'accruedDelegateeReward': '0',\n",
       " 'delegationFee': '15.0000',\n",
       " 'uptime': '99.8106',\n",
       " 'connected': True,\n",
       " 'delegatorCount': '11',\n",
       " 'delegatorWeight': '6339001374000000',\n",
       " 'delegators': [{'txID': '2bbuF42VJxAarN8EsEpewkeH94g14HU6FAiWdcXTMKJ9xbJ2WW',\n",
       "   'startTime': '1749812772',\n",
       "   'endTime': '1751022432',\n",
       "   'weight': '1827239500000000',\n",
       "   'nodeID': 'NodeID-CtSfUZd8nvr4RDaQnKRiP9cae15Nrb1bX',\n",
       "   'stakeAmount': '1827239500000000',\n",
       "   'rewardOwner': {'locktime': '0',\n",
       "    'threshold': '1',\n",
       "    'addresses': ['P-flare1ljm5j7ku39shkern8peyg223axa9m0z30cl63c']},\n",
       "   'potentialReward': '0'},\n",
       "  {'txID': 'CBdN9WKnW28KenSG5gshg6G5C9K5u5Z9VDfF65xDAT7QR4pYt',\n",
       "   'startTime': '1749942077',\n",
       "   'endTime': '1751151737',\n",
       "   'weight': '2999655320000000',\n",
       "   'nodeID': 'NodeID-CtSfUZd8nvr4RDaQnKRiP9cae15Nrb1bX',\n",
       "   'stakeAmount': '2999655320000000',\n",
       "   'rewardOwner': {'locktime': '0',\n",
       "    'threshold': '1',\n",
       "    'addresses': ['P-flare1ljm5j7ku39shkern8peyg223axa9m0z30cl63c']},\n",
       "   'potentialReward': '0'},\n",
       "  {'txID': 'UkTZCVAiVMuxFhZ6hmMhBdSNXzghyGTgNsjfSCTE7E9wkPmo6',\n",
       "   'startTime': '1749950339',\n",
       "   'endTime': '1751159999',\n",
       "   'weight': '250460290000000',\n",
       "   'nodeID': 'NodeID-CtSfUZd8nvr4RDaQnKRiP9cae15Nrb1bX',\n",
       "   'stakeAmount': '250460290000000',\n",
       "   'rewardOwner': {'locktime': '0',\n",
       "    'threshold': '1',\n",
       "    'addresses': ['P-flare1ljm5j7ku39shkern8peyg223axa9m0z30cl63c']},\n",
       "   'potentialReward': '0'},\n",
       "  {'txID': '2tNJP6M5YDEY3J9HK7sM6FG859FKMdr5yCKrxcqa8JmSUdJFLp',\n",
       "   'startTime': '1749960746',\n",
       "   'endTime': '1751170406',\n",
       "   'weight': '102269240000000',\n",
       "   'nodeID': 'NodeID-CtSfUZd8nvr4RDaQnKRiP9cae15Nrb1bX',\n",
       "   'stakeAmount': '102269240000000',\n",
       "   'rewardOwner': {'locktime': '0',\n",
       "    'threshold': '1',\n",
       "    'addresses': ['P-flare1ljm5j7ku39shkern8peyg223axa9m0z30cl63c']},\n",
       "   'potentialReward': '0'},\n",
       "  {'txID': '2eRs8AsnsdsZ4fZUQm7L3gkS5it9dgLAx65bUjzHLTr9QfnzgV',\n",
       "   'startTime': '1749961424',\n",
       "   'endTime': '1751171084',\n",
       "   'weight': '96649100000000',\n",
       "   'nodeID': 'NodeID-CtSfUZd8nvr4RDaQnKRiP9cae15Nrb1bX',\n",
       "   'stakeAmount': '96649100000000',\n",
       "   'rewardOwner': {'locktime': '0',\n",
       "    'threshold': '1',\n",
       "    'addresses': ['P-flare1ljm5j7ku39shkern8peyg223axa9m0z30cl63c']},\n",
       "   'potentialReward': '0'},\n",
       "  {'txID': '2mLRv9vuXJLqtxs7vYRB8PjwGdnzzwtXM3nTAaazSMMYL2vfdb',\n",
       "   'startTime': '1749974805',\n",
       "   'endTime': '1751184465',\n",
       "   'weight': '161860460000000',\n",
       "   'nodeID': 'NodeID-CtSfUZd8nvr4RDaQnKRiP9cae15Nrb1bX',\n",
       "   'stakeAmount': '161860460000000',\n",
       "   'rewardOwner': {'locktime': '0',\n",
       "    'threshold': '1',\n",
       "    'addresses': ['P-flare1ljm5j7ku39shkern8peyg223axa9m0z30cl63c']},\n",
       "   'potentialReward': '0'},\n",
       "  {'txID': '3dAYxwMBEG7moxVUETecZgybyXBoiHoQmRjD7tri2iHCZJYBu',\n",
       "   'startTime': '1749979376',\n",
       "   'endTime': '1751189036',\n",
       "   'weight': '161866480000000',\n",
       "   'nodeID': 'NodeID-CtSfUZd8nvr4RDaQnKRiP9cae15Nrb1bX',\n",
       "   'stakeAmount': '161866480000000',\n",
       "   'rewardOwner': {'locktime': '0',\n",
       "    'threshold': '1',\n",
       "    'addresses': ['P-flare1ljm5j7ku39shkern8peyg223axa9m0z30cl63c']},\n",
       "   'potentialReward': '0'},\n",
       "  {'txID': '2LqHhKf1nrzJep9feSYpLsZAbpsh39fRnw5SE7wUBCZMSKaDS6',\n",
       "   'startTime': '1748497465',\n",
       "   'endTime': '1751262200',\n",
       "   'weight': '50000983000000',\n",
       "   'nodeID': 'NodeID-CtSfUZd8nvr4RDaQnKRiP9cae15Nrb1bX',\n",
       "   'stakeAmount': '50000983000000',\n",
       "   'rewardOwner': {'locktime': '0',\n",
       "    'threshold': '1',\n",
       "    'addresses': ['P-flare1h80238culwy8k9v00ymtl5hk87vwyl2xfzekgs']},\n",
       "   'potentialReward': '0'},\n",
       "  {'txID': '24v9eZk9EWa88ZF1Weu531J843jW8DYQ5AoG12UPiEKSs1TbT',\n",
       "   'startTime': '1746273120',\n",
       "   'endTime': '1751274000',\n",
       "   'weight': '338000000000000',\n",
       "   'nodeID': 'NodeID-CtSfUZd8nvr4RDaQnKRiP9cae15Nrb1bX',\n",
       "   'stakeAmount': '338000000000000',\n",
       "   'rewardOwner': {'locktime': '0',\n",
       "    'threshold': '1',\n",
       "    'addresses': ['P-flare168gmsmk28urht45j24pcdsfsj5uz8dve30qa72']},\n",
       "   'potentialReward': '0'},\n",
       "  {'txID': '2UCJvBv2ZZWKyRnRWYobXWan5DHtdZ5PQhjGHs5Tn7fAUsDsK1',\n",
       "   'startTime': '1746273240',\n",
       "   'endTime': '1751274000',\n",
       "   'weight': '301000001000000',\n",
       "   'nodeID': 'NodeID-CtSfUZd8nvr4RDaQnKRiP9cae15Nrb1bX',\n",
       "   'stakeAmount': '301000001000000',\n",
       "   'rewardOwner': {'locktime': '0',\n",
       "    'threshold': '1',\n",
       "    'addresses': ['P-flare1d7xzc62kpuww0tj4pjg00p6eusfj7ccjat9fpw']},\n",
       "   'potentialReward': '0'},\n",
       "  {'txID': '9iC76DK7snWoMhwuBPtLPQjjChrk7UGNxTtRdc7yKo7UKCLfg',\n",
       "   'startTime': '1748533500',\n",
       "   'endTime': '1751281200',\n",
       "   'weight': '50000000000000',\n",
       "   'nodeID': 'NodeID-CtSfUZd8nvr4RDaQnKRiP9cae15Nrb1bX',\n",
       "   'stakeAmount': '50000000000000',\n",
       "   'rewardOwner': {'locktime': '0',\n",
       "    'threshold': '1',\n",
       "    'addresses': ['P-flare1lhfasxy3kt4htye9yjtr3nw90t0y8jk2udk37d']},\n",
       "   'potentialReward': '0'}]}"
      ]
     },
     "execution_count": 21,
     "metadata": {},
     "output_type": "execute_result"
    }
   ],
   "source": [
    "validators[0]"
   ]
  },
  {
   "cell_type": "markdown",
   "id": "cd15b766-d96c-4f90-a904-564d8839f3df",
   "metadata": {},
   "source": [
    "## P-chain explorer"
   ]
  },
  {
   "cell_type": "code",
   "execution_count": 22,
   "id": "62a14cb9-f501-4060-9494-fc4ddc9d9b7f",
   "metadata": {},
   "outputs": [
    {
     "ename": "ModuleNotFoundError",
     "evalue": "No module named 'avalanche'",
     "output_type": "error",
     "traceback": [
      "\u001b[31m---------------------------------------------------------------------------\u001b[39m",
      "\u001b[31mModuleNotFoundError\u001b[39m                       Traceback (most recent call last)",
      "\u001b[36mCell\u001b[39m\u001b[36m \u001b[39m\u001b[32mIn[22]\u001b[39m\u001b[32m, line 2\u001b[39m\n\u001b[32m      1\u001b[39m \u001b[38;5;28;01mimport\u001b[39;00m\u001b[38;5;250m \u001b[39m\u001b[34;01mrequests\u001b[39;00m\n\u001b[32m----> \u001b[39m\u001b[32m2\u001b[39m \u001b[38;5;28;01mfrom\u001b[39;00m\u001b[38;5;250m \u001b[39m\u001b[34;01mavalanche\u001b[39;00m\u001b[34;01m.\u001b[39;00m\u001b[34;01mapi\u001b[39;00m\u001b[38;5;250m \u001b[39m\u001b[38;5;28;01mimport\u001b[39;00m IndexAPI, PlatformVMAPI\n\u001b[32m      3\u001b[39m \u001b[38;5;28;01mfrom\u001b[39;00m\u001b[38;5;250m \u001b[39m\u001b[34;01mavalanche\u001b[39;00m\u001b[34;01m.\u001b[39;00m\u001b[34;01mdatastructures\u001b[39;00m\u001b[38;5;250m \u001b[39m\u001b[38;5;28;01mimport\u001b[39;00m PlatformChainBlock\n\u001b[32m      5\u001b[39m \u001b[38;5;66;03m# 1) Pull raw P-Chain block bytes via the Index API\u001b[39;00m\n",
      "\u001b[31mModuleNotFoundError\u001b[39m: No module named 'avalanche'"
     ]
    }
   ],
   "source": [
    "import requests\n",
    "from avalanche.api import IndexAPI, PlatformVMAPI\n",
    "from avalanche.datastructures import PlatformChainBlock\n",
    "\n",
    "# 1) Pull raw P-Chain block bytes via the Index API\n",
    "INDEX_RPC = \"https://flare-api.flare.network/ext/index/P/block\"\n",
    "def get_raw_pchain_block_bytes(height: int) -> bytes:\n",
    "    payload = {\n",
    "        \"jsonrpc\":\"2.0\",\n",
    "        \"id\":1,\n",
    "        \"method\":\"index.getContainerByIndex\",\n",
    "        \"params\":{\n",
    "            \"index\": height,\n",
    "            \"encoding\":\"hex\"\n",
    "        }\n",
    "    }\n",
    "    r = requests.post(INDEX_RPC, json=payload).json()\n",
    "    hexdata = r[\"result\"][\"bytes\"]\n",
    "    return bytes.fromhex(hexdata[2:])\n",
    "\n",
    "# 2) Decode the block to grab the proposer NodeID\n",
    "raw = get_raw_pchain_block_bytes(123456)      # ← your block number here\n",
    "block = PlatformChainBlock.decode(raw)        # requires avalanche-python-sdk\n",
    "proposer_node_id = block.get_proposer()\n",
    "\n",
    "print(\"Proposer NodeID:\", proposer_node_id)\n",
    "\n",
    "# 3) Map NodeID → rewardAddress via platform.getValidatorsAt\n",
    "PCHAIN_RPC = \"https://flare-api.flare.network/ext/bc/P\"\n",
    "payload = {\n",
    "    \"jsonrpc\":\"2.0\",\n",
    "    \"id\":1,\n",
    "    \"method\":\"platform.getValidatorsAt\",\n",
    "    \"params\": {\"height\": str(block.height)}\n",
    "}\n",
    "r = requests.post(PCHAIN_RPC, json=payload).json()\n",
    "for v in r[\"result\"][\"validators\"]:\n",
    "    if v[\"nodeID\"] == proposer_node_id:\n",
    "        print(\"Proposer rewardAddress:\", v[\"rewardAddress\"])\n",
    "        break\n"
   ]
  },
  {
   "cell_type": "code",
   "execution_count": 43,
   "id": "08273f76-d7d4-4395-817f-930951845d70",
   "metadata": {},
   "outputs": [
    {
     "data": {
      "text/plain": [
       "b\"\\x00\\x00\\x00\\x00\\x00\\x00\\xa7,\\xd3\\xf6\\xf8F@|\\xd4|[d\\xec\\x96'\\x82\\xedx\\x8a%\\xd02\\xfe\\x9bM\\xf3y\\x93\\x94\\xb2?p\\x00\\x00\\x00\\x00d\\x94oV\\x00\\x00\\x00\\x00\\x00\\x00\\x00\\x02\\x00\\x00\\x00\\x00\\x00\\x00\\x01\\xd5\\x00\\x00\\x00\\x00\\x00\\x03sz\\xc4\\x82\\xd3X\\x13!\\xc5?g\\x88-w\\xb2\\x82\\xc2\\xc1\\x01\\x1b[\\xf071\\xe3\\x12!\\x91\\x81\\xe2\\xa8\\xb8\\x00\\x00\\x00\\x00\\x00\\x00\\x00\\x03\\x00\\x00\\x00\\x01\\x00\\x00\\x00\\x11\\x00\\x00\\x00\\x0e\\x00\\x00\\x00\\x00\\x00\\x00\\x00\\x00\\x00\\x00\\x00\\x00\\x00\\x00\\x00\\x00\\x00\\x00\\x00\\x00\\x00\\x00\\x00\\x00\\x00\\x00\\x00\\x00\\x00\\x00\\x00\\x00\\x00\\x00\\x00\\x01\\xb3F/\\xc3\\x95h\\xbf\\x99\\xfd4m<\\xdc\\xfe\\x1f\\xb9\\x00\\xf1L\\xdc\\xf2v\\xe3\\xc0\\xd9_\\x81J\\xf8Sx$\\x00\\x00\\x00\\x07\\x00\\x00\\x00\\x00\\x00\\x00\\xc3P\\x00\\x00\\x00\\x00\\x00\\x00\\x00\\x00\\x00\\x00\\x00\\x01\\x00\\x00\\x00\\x01K\\xb9\\x81L0&RS&\\xfeo\\xfd\\x9b\\x8a\\xe8\\xd9\\xaa\\xf6y\\xff\\x00\\x00\\x00\\x00\\x00\\x00\\x00VPlatformVM utility method buildImportTx to import AVAX to the P-Chain from the C-Chainw\\xd3\\x07M\\xc5\\x10\\xf4;\\t\\xac[\\xe7~\\xde\\xe2v\\xef;U\\xf0\\t}PHF\\xaa\\x8e\\xeca?\\xc6%\\x00\\x00\\x00\\x01\\xe1\\xd8\\xa8\\xa4\\x85\\xca\\x0f\\xeb\\xc9Jk~\\xfbf]\\xa4\\xdd\\x0bB\\xc08\\xa6\\x98m\\x0ey\\x17A\\xd2\\xcb\\xe3P\\x00\\x00\\x00\\x00\\xb3F/\\xc3\\x95h\\xbf\\x99\\xfd4m<\\xdc\\xfe\\x1f\\xb9\\x00\\xf1L\\xdc\\xf2v\\xe3\\xc0\\xd9_\\x81J\\xf8Sx$\\x00\\x00\\x00\\x05\\x00\\x00\\x00\\x00\\x00\\x10\\x05\\x90\\x00\\x00\\x00\\x01\\x00\\x00\\x00\\x00\\x00\\x00\\x00\\x01\\x00\\x00\\x00\\t\\x00\\x00\\x00\\x01O\\xd5q|\\xe1\\xeb]\\x01\\x96\\xbc*!x\\xf0\\xe2\\x9b*fi\\x1f|\\t\\xe1S)<\\x13(\\xe3\\xb1NrV,zz\\x05Q\\xcc\\x8fW\\x1d\\xafR\\x1e\\xff'\\xa6\\xe2\\xd3\\x83\\x85\\xa4\\x88u\\x04NPx\\x16\\x9b\\xbd\\x8b\\x1d\\x01\\x00\\x00\\x00\\x00\\xc8\\xf7\\xbb!\""
      ]
     },
     "execution_count": 43,
     "metadata": {},
     "output_type": "execute_result"
    }
   ],
   "source": [
    "import requests\n",
    "\n",
    "# 1. Fetch the raw block bytes\n",
    "resp = requests.post(\n",
    "  \"https://flare-api.flare.network/ext/index/P/block\",\n",
    "  json={\n",
    "    \"jsonrpc\":\"2.0\",\"id\":1,\n",
    "    \"method\":\"index.getContainerByIndex\",\n",
    "    \"params\":{\"index\":2,\"encoding\":\"hex\"}\n",
    "  }\n",
    ").json()\n",
    "raw = bytes.fromhex(resp[\"result\"][\"bytes\"][2:])\n",
    "raw"
   ]
  },
  {
   "cell_type": "code",
   "execution_count": 52,
   "id": "2f35f13c-5963-49c1-acca-a220209f7cbd",
   "metadata": {},
   "outputs": [
    {
     "name": "stdout",
     "output_type": "stream",
     "text": [
      "aliasreader/aliasreader_pb2.py\n",
      "appsender/appsender_pb2.py\n",
      "ava_labs_avalanche_protocolbuffers_python-31.1.0.1.dev+39f35551d76c.dist-info/INSTALLER\n",
      "ava_labs_avalanche_protocolbuffers_python-31.1.0.1.dev+39f35551d76c.dist-info/METADATA\n",
      "ava_labs_avalanche_protocolbuffers_python-31.1.0.1.dev+39f35551d76c.dist-info/RECORD\n",
      "ava_labs_avalanche_protocolbuffers_python-31.1.0.1.dev+39f35551d76c.dist-info/REQUESTED\n",
      "ava_labs_avalanche_protocolbuffers_python-31.1.0.1.dev+39f35551d76c.dist-info/WHEEL\n",
      "http/http_pb2.py\n",
      "http/responsewriter/responsewriter_pb2.py\n",
      "io/reader/reader_pb2.py\n",
      "io/writer/writer_pb2.py\n",
      "messenger/messenger_pb2.py\n",
      "net/conn/conn_pb2.py\n",
      "p2p/p2p_pb2.py\n",
      "platformvm/platformvm_pb2.py\n",
      "rpcdb/rpcdb_pb2.py\n",
      "sdk/sdk_pb2.py\n",
      "sharedmemory/sharedmemory_pb2.py\n",
      "signer/signer_pb2.py\n",
      "sync/sync_pb2.py\n",
      "validatorstate/validator_state_pb2.py\n",
      "vm/runtime/runtime_pb2.py\n",
      "vm/vm_pb2.py\n",
      "warp/message_pb2.py\n"
     ]
    }
   ],
   "source": [
    "import importlib.metadata\n",
    "dist = importlib.metadata.distribution(\"ava-labs-avalanche-protocolbuffers-python\")\n",
    "for file in dist.files:\n",
    "    print(file)\n"
   ]
  },
  {
   "cell_type": "code",
   "execution_count": 66,
   "id": "eb0155e5-f123-44bf-a8ca-5dd05aa07edd",
   "metadata": {},
   "outputs": [
    {
     "name": "stdout",
     "output_type": "stream",
     "text": [
      "['Message', 'Ping', 'Pong', 'Handshake', 'Client', 'BloomFilter', 'ClaimedIpPort', 'GetPeerList', 'PeerList', 'GetStateSummaryFrontier', 'StateSummaryFrontier', 'GetAcceptedStateSummary', 'AcceptedStateSummary', 'GetAcceptedFrontier', 'AcceptedFrontier', 'GetAccepted', 'Accepted', 'GetAncestors', 'Ancestors', 'Get', 'Put', 'PushQuery', 'PullQuery', 'Chits', 'AppRequest', 'AppResponse', 'AppError', 'AppGossip']\n"
     ]
    }
   ],
   "source": [
    "import p2p.p2p_pb2 as p\n",
    "\n",
    "# List all top-level protobuf message names\n",
    "print(list(p.DESCRIPTOR.message_types_by_name.keys()))\n"
   ]
  },
  {
   "cell_type": "code",
   "execution_count": 1,
   "id": "45d545c8-f5fa-4f63-8492-8818a876199b",
   "metadata": {},
   "outputs": [
    {
     "ename": "KeyError",
     "evalue": "'header'",
     "output_type": "error",
     "traceback": [
      "\u001b[31m---------------------------------------------------------------------------\u001b[39m",
      "\u001b[31mKeyError\u001b[39m                                  Traceback (most recent call last)",
      "\u001b[36mCell\u001b[39m\u001b[36m \u001b[39m\u001b[32mIn[1]\u001b[39m\u001b[32m, line 20\u001b[39m\n\u001b[32m      7\u001b[39m resp = requests.post(\n\u001b[32m      8\u001b[39m     P_CHAIN_RPC,\n\u001b[32m      9\u001b[39m     json={\n\u001b[32m   (...)\u001b[39m\u001b[32m     17\u001b[39m     },\n\u001b[32m     18\u001b[39m ).json()\n\u001b[32m     19\u001b[39m block = resp[\u001b[33m\"\u001b[39m\u001b[33mresult\u001b[39m\u001b[33m\"\u001b[39m][\u001b[33m\"\u001b[39m\u001b[33mblock\u001b[39m\u001b[33m\"\u001b[39m]\n\u001b[32m---> \u001b[39m\u001b[32m20\u001b[39m proposer_node_id = \u001b[43mblock\u001b[49m\u001b[43m[\u001b[49m\u001b[33;43m\"\u001b[39;49m\u001b[33;43mheader\u001b[39;49m\u001b[33;43m\"\u001b[39;49m\u001b[43m]\u001b[49m[\u001b[33m\"\u001b[39m\u001b[33mproposer\u001b[39m\u001b[33m\"\u001b[39m]\n\u001b[32m     21\u001b[39m \u001b[38;5;28mprint\u001b[39m(\u001b[33m\"\u001b[39m\u001b[33mProposer NodeID:\u001b[39m\u001b[33m\"\u001b[39m, proposer_node_id)\n",
      "\u001b[31mKeyError\u001b[39m: 'header'"
     ]
    }
   ],
   "source": [
    "import requests\n",
    "\n",
    "P_CHAIN_RPC = \"https://flare-api.flare.network/ext/bc/P\"\n",
    "height = 2  # your P-Chain height\n",
    "\n",
    "# 1) Fetch the block as JSON (includes proposer)\n",
    "resp = requests.post(\n",
    "    P_CHAIN_RPC,\n",
    "    json={\n",
    "        \"jsonrpc\": \"2.0\",\n",
    "        \"id\": 1,\n",
    "        \"method\": \"platform.getBlockByHeight\",\n",
    "        \"params\": {\n",
    "            \"height\": height,\n",
    "            \"encoding\": \"json\"\n",
    "        }\n",
    "    },\n",
    ").json()\n",
    "block = resp[\"result\"][\"block\"]\n",
    "proposer_node_id = block[\"header\"][\"proposer\"]\n",
    "print(\"Proposer NodeID:\", proposer_node_id)\n"
   ]
  },
  {
   "cell_type": "code",
   "execution_count": 2,
   "id": "1bc2fef7-d9cd-47ec-8713-9189d46b1494",
   "metadata": {},
   "outputs": [
    {
     "name": "stdout",
     "output_type": "stream",
     "text": [
      "Connected to local node\n",
      "Node is running but no blocks produced yet. Please wait a few seconds and run again.\n",
      "Node is connected. Latest C-Chain block is: 0\n"
     ]
    },
    {
     "data": {
      "text/plain": [
       "0"
      ]
     },
     "execution_count": 2,
     "metadata": {},
     "output_type": "execute_result"
    }
   ],
   "source": [
    "import requests\n",
    "import json\n",
    "from web3 import Web3\n",
    "\n",
    "# Configuration for your LOCAL node\n",
    "C_CHAIN_RPC = \"http://127.0.0.1:9650/ext/bc/C/rpc\"\n",
    "\n",
    "def prep_connection(rpc_node):\n",
    "    w3 = Web3(Web3.HTTPProvider(rpc_node))\n",
    "    if not w3.is_connected():\n",
    "        print(\"❌ Failed to connect to local node.\")\n",
    "        exit()\n",
    "    else:\n",
    "        print(\"Connected to local node\")\n",
    "    return w3\n",
    "\n",
    "def get_latest_block_num(rpc_node: str):\n",
    "    w3 = prep_connection(rpc_node)\n",
    "    latest_block_num = w3.eth.block_number\n",
    "    if latest_block_num < 1:\n",
    "        print(\"Node is running but no blocks produced yet. Please wait a few seconds and run again.\")\n",
    "\n",
    "    print(f\"Node is connected. Latest C-Chain block is: {latest_block_num}\")\n",
    "    exit()\n",
    "    return latest_block_num\n",
    "\n",
    "get_latest_block_num(C_CHAIN_RPC)"
   ]
  },
  {
   "cell_type": "code",
   "execution_count": 2,
   "id": "df99ceae-c6f7-4112-9a0d-98ea70afb3f3",
   "metadata": {},
   "outputs": [
    {
     "name": "stdout",
     "output_type": "stream",
     "text": [
      "Attempting to connect to node at http://127.0.0.1:9650/ext/bc/C/rpc...\n",
      "✅ Node is connected.\n",
      "   EVM Chain ID: 162\n",
      "   Querying balance for genesis account: 0x8db97C7cEcE249c2b98bDC0226Cc4C2A57BF52FC\n",
      "\n",
      "✅ Success! The balance is: 1000000000000000 ETH\n",
      "\n",
      "   This confirms the genesis account IS funded.\n"
     ]
    }
   ],
   "source": [
    "from web3 import Web3\n",
    "\n",
    "# --- Configuration for your LOCAL node ---\n",
    "C_CHAIN_RPC = \"http://127.0.0.1:9650/ext/bc/C/rpc\"\n",
    "w3 = Web3(Web3.HTTPProvider(C_CHAIN_RPC))\n",
    "\n",
    "# --- The address that SHOULD be funded in the default genesis ---\n",
    "funded_address = \"0x8db97C7cEcE249c2b98bDC0226Cc4C2A57BF52FC\"\n",
    "\n",
    "print(f\"Attempting to connect to node at {C_CHAIN_RPC}...\")\n",
    "\n",
    "try:\n",
    "    if not w3.is_connected():\n",
    "        print(\"❌ Failed to connect. Is the node running?\")\n",
    "        exit()\n",
    "    \n",
    "    print(\"✅ Node is connected.\")\n",
    "    \n",
    "    chain_id = w3.eth.chain_id\n",
    "    print(f\"   EVM Chain ID: {chain_id}\")\n",
    "    \n",
    "    print(f\"   Querying balance for genesis account: {funded_address}\")\n",
    "    \n",
    "    # --- Check the balance of the pre-funded account ---\n",
    "    balance_wei = w3.eth.get_balance(funded_address)\n",
    "    balance_eth = w3.from_wei(balance_wei, 'ether')\n",
    "    \n",
    "    print(f\"\\n✅ Success! The balance is: {balance_eth} ETH\")\n",
    "    \n",
    "    if balance_eth > 0:\n",
    "        print(\"\\n   This confirms the genesis account IS funded.\")\n",
    "    else:\n",
    "        print(\"\\n   This confirms the genesis account IS NOT funded.\")\n",
    "\n",
    "except Exception as e:\n",
    "    print(f\"\\n❌ An error occurred during check: {e}\")"
   ]
  },
  {
   "cell_type": "code",
   "execution_count": 18,
   "id": "606aeb32-a790-4e5f-a1d8-11cff84656fc",
   "metadata": {},
   "outputs": [
    {
     "name": "stdout",
     "output_type": "stream",
     "text": [
      "✅ Node is connected (Chain ID: 162)\n",
      "   Using pre-funded account: 0x8db97C7cEcE249c2b98bDC0226Cc4C2A57BF52FC\n",
      "\n",
      "Transaction signed locally.\n",
      "Raw transaction sent! Waiting for receipt... Hash: 3bfb04146064b4711c8c5ebd9991231a69a5bd79f9237a8a7a9fce718bf9d624\n",
      "\n",
      "✅✅✅ Success! Transaction was mined!\n",
      "      A new block has been produced at number: 3\n",
      "      You can now inspect it.\n"
     ]
    }
   ],
   "source": [
    "from web3 import Web3\n",
    "\n",
    "# --- Configuration for your LOCAL node ---\n",
    "C_CHAIN_RPC = \"http://127.0.0.1:9650/ext/bc/C/rpc\"\n",
    "w3 = Web3(Web3.HTTPProvider(C_CHAIN_RPC))\n",
    "\n",
    "# --- The correct private key for the funded genesis account ---\n",
    "funded_private_key = \"0x56289e99c94b6912bfc12adc093c9b51124f0dc54ac7a766b2bc5ccf558d8027\"\n",
    "funded_account = w3.eth.account.from_key(funded_private_key)\n",
    "\n",
    "print(f\"✅ Node is connected (Chain ID: {w3.eth.chain_id})\")\n",
    "print(f\"   Using pre-funded account: {funded_account.address}\")\n",
    "\n",
    "try:\n",
    "    # 1. Build the transaction dictionary\n",
    "    tx_dict = {\n",
    "        \"from\": funded_account.address,\n",
    "        \"to\": \"0x000000000000000000000000000000000000dEaD\",\n",
    "        \"value\": w3.to_wei(0.001, 'ether'),\n",
    "        \"gas\": 21000,\n",
    "        \"gasPrice\": w3.eth.gas_price,\n",
    "        \"nonce\": w3.eth.get_transaction_count(funded_account.address),\n",
    "        \"chainId\": w3.eth.chain_id\n",
    "    }\n",
    "\n",
    "    # 2. Sign the transaction locally with our private key\n",
    "    signed_tx = w3.eth.account.sign_transaction(tx_dict, funded_private_key)\n",
    "    print(\"\\nTransaction signed locally.\")\n",
    "\n",
    "    # 3. Send the RAW, signed transaction to the node\n",
    "    #    FIX: Changed .rawTransaction to .raw_transaction\n",
    "    tx_hash = w3.eth.send_raw_transaction(signed_tx.raw_transaction)\n",
    "    print(f\"Raw transaction sent! Waiting for receipt... Hash: {tx_hash.hex()}\")\n",
    "    \n",
    "    # 4. Wait for the transaction to be mined\n",
    "    receipt = w3.eth.wait_for_transaction_receipt(tx_hash)\n",
    "    \n",
    "    print(\"\\n✅✅✅ Success! Transaction was mined!\")\n",
    "    print(f\"      A new block has been produced at number: {receipt.blockNumber}\")\n",
    "    print(\"      You can now inspect it.\")\n",
    "\n",
    "except Exception as e:\n",
    "    print(f\"\\n❌ An error occurred: {e}\")"
   ]
  },
  {
   "cell_type": "code",
   "execution_count": 22,
   "id": "b790d05f-8083-4852-a176-4213b878f75f",
   "metadata": {},
   "outputs": [
    {
     "name": "stdout",
     "output_type": "stream",
     "text": [
      "✅ Node is connected.\n",
      "   Latest C-Chain block is: 1\n",
      "\n",
      "❌ An error occurred: The field extraData is 86 bytes, but should be 32. It is quite likely that you are connected to a POA chain. Refer to http://web3py.readthedocs.io/en/stable/middleware.html#proof-of-authority for more details. The full extraData is: HexBytes('0x0000000000000000000000000000000000000000000000000000000000000000000000000000000000000000000000000000000000000000000000000000000000000000000000000000000000000000000000000000')\n"
     ]
    }
   ],
   "source": [
    "import requests\n",
    "import json\n",
    "from web3 import Web3\n",
    "\n",
    "C_CHAIN_RPC = \"http://127.0.0.1:9650/ext/bc/C/rpc\"\n",
    "\n",
    "try:\n",
    "    w3 = Web3(Web3.HTTPProvider(C_CHAIN_RPC))\n",
    "    print(f\"✅ Node is connected.\")\n",
    "\n",
    "    latest_block_num = w3.eth.block_number\n",
    "    print(f\"   Latest C-Chain block is: {latest_block_num}\")\n",
    "\n",
    "    if latest_block_num == 0:\n",
    "        print(\"❌ No new blocks to inspect yet.\")\n",
    "        exit()\n",
    "\n",
    "    target_block = w3.eth.get_block(latest_block_num)\n",
    "    block_hash = target_block['hash'].hex()\n",
    "    print(f\"   Inspecting block {latest_block_num} with hash: {block_hash}\")\n",
    "\n",
    "    payload = {\n",
    "        \"jsonrpc\": \"2.0\",\n",
    "        \"id\": 1,\n",
    "        \"method\": \"avalanche.getBlock\",\n",
    "        \"params\": {\"blockID\": block_hash, \"encoding\": \"json\"}\n",
    "    }\n",
    "    headers = {'Content-Type': 'application/json'}\n",
    "\n",
    "    response = requests.post(C_CHAIN_RPC, headers=headers, data=json.dumps(payload))\n",
    "    response.raise_for_status()\n",
    "\n",
    "    full_block_data = response.json().get('result')\n",
    "\n",
    "    if full_block_data:\n",
    "        print(\"\\n✅✅✅ Success! Retrieved the full proposervm.Block wrapper.\")\n",
    "        print(\"-------------------------------------------------------\")\n",
    "        print(json.dumps(full_block_data, indent=2))\n",
    "        print(\"-------------------------------------------------------\")\n",
    "\n",
    "        p_chain_height = full_block_data.get('pChainHeight')\n",
    "        # The proposer field may be named differently, e.g., 'proposer' or 'cert'\n",
    "        proposer_info = full_block_data.get('proposer') or full_block_data.get('cert')\n",
    "        \n",
    "        print(f\"\\nP-Chain Height from wrapper: {p_chain_height}\")\n",
    "        print(f\"Proposer Info from wrapper: {proposer_info}\")\n",
    "    else:\n",
    "        print(\"\\n❌ Received a null result from the node.\")\n",
    "\n",
    "except Exception as e:\n",
    "    print(f\"\\n❌ An error occurred: {e}\")"
   ]
  },
  {
   "cell_type": "code",
   "execution_count": 27,
   "id": "7caa43f4-2dca-4cdc-968b-a0fc1cdda53b",
   "metadata": {},
   "outputs": [
    {
     "name": "stdout",
     "output_type": "stream",
     "text": [
      "saved 2QUfspoSViNUc8VnkvNFnWoFFFA2eDH8b7i4CCUUSu8Xj9yppB (0) to latest_proposer_block.hex\n"
     ]
    }
   ],
   "source": [
    "import requests, json, binascii\n",
    "from pathlib import Path\n",
    "\n",
    "INDEX = \"http://127.0.0.1:9650/ext/index/C/block\"\n",
    "\n",
    "# last accepted\n",
    "resp = requests.post(INDEX, json={\n",
    "    \"jsonrpc\": \"2.0\", \"id\": 1,\n",
    "    \"method\":  \"index.getLastAccepted\",\n",
    "    \"params\":  {\"encoding\": \"hex\"}\n",
    "}).json()[\"result\"]\n",
    "\n",
    "raw_hex = resp[\"bytes\"]\n",
    "Path(\"latest_proposer_block.hex\").write_text(raw_hex[2:] if raw_hex.startswith(\"0x\") else raw_hex)\n",
    "print(f\"saved {resp['id']} ({resp['index']}) to latest_proposer_block.hex\")\n",
    "\n",
    "# decode later with Go / avalanchejs / CLI as shown above\n"
   ]
  },
  {
   "cell_type": "code",
   "execution_count": 28,
   "id": "b2b25d80-679b-4b26-8657-973bc0ad840e",
   "metadata": {},
   "outputs": [
    {
     "data": {
      "text/plain": [
       "{'id': '2QUfspoSViNUc8VnkvNFnWoFFFA2eDH8b7i4CCUUSu8Xj9yppB',\n",
       " 'bytes': '0xf902edf90276a0ae950c7fff81f412efc9a2e35146d1bd81acae17e90833759bf18f6d55869b55a01dcc4de8dec75d7aab85b567b6ccd41ad312451b948a7413f0a142fd40d49347940100000000000000000000000000000000000000a0fc14baec4ecb1d3e8d6e5ace03f287b91e19f8d4e8cdd7b4015a56b08c856fdca0f4170f1a4c243c256905bab32eee4ca269074dffeb7eed7bad943ddfa371f85ba042a74a21725b8bd586fe13bb4df846035e15a3914e71459fafda707faee97ef6b9010000000000000000000000000000000000000000000000000000000000000000000000000000000000000000000000000000000000000000000000000000000000000000000000000000400000000000000000000000000000001080000000000000000000000000000000000000000400000000000000000000000000000000000000000000000000000000000000000000000000000000000000200000000000080000000000000000000000000000000000000000000000000000000000000000000000000000000000000000000000000000000000000000000000000000000000000000000000000000000000000000000000000000000000000000000000010183e4e1c0825208846863f9e4b8560000000000000000000000000000000000000000000000000000000000000000000000000000000000000000000000000000000000000000000000000000000000000000000000000000000000000000000000000000a00000000000000000000000000000000000000000000000000000000000000000880000000000000000a056e81f171bcc55a6ff8345e692c0f86e5b48e01b996cadc001622fb5e363b4218534630b8a008080f86ff86d808534630b8a0082520894000000000000000000000000000000000000dead87038d7ea4c6800080820168a0bd9f30f9f85274dfaf479627ddf8435ca05bc967d8d7fbfa66e07d1f7cfb1f87a0769af7999355e4570c3878f7a2f7907860e26c66e1bf8218cd9ac2cdcfe4d2ffc080800c487d78',\n",
       " 'timestamp': '2025-07-01T16:08:20.966182094+01:00',\n",
       " 'encoding': 'hex',\n",
       " 'index': '0'}"
      ]
     },
     "execution_count": 28,
     "metadata": {},
     "output_type": "execute_result"
    }
   ],
   "source": [
    "resp"
   ]
  },
  {
   "cell_type": "code",
   "execution_count": 32,
   "id": "ff9b07b4-1623-4477-9641-4616c68a918c",
   "metadata": {},
   "outputs": [
    {
     "data": {
      "text/plain": [
       "[[b'\\xae\\x95\\x0c\\x7f\\xff\\x81\\xf4\\x12\\xef\\xc9\\xa2\\xe3QF\\xd1\\xbd\\x81\\xac\\xae\\x17\\xe9\\x083u\\x9b\\xf1\\x8fmU\\x86\\x9bU',\n",
       "  b'\\x1d\\xccM\\xe8\\xde\\xc7]z\\xab\\x85\\xb5g\\xb6\\xcc\\xd4\\x1a\\xd3\\x12E\\x1b\\x94\\x8at\\x13\\xf0\\xa1B\\xfd@\\xd4\\x93G',\n",
       "  b'\\x01\\x00\\x00\\x00\\x00\\x00\\x00\\x00\\x00\\x00\\x00\\x00\\x00\\x00\\x00\\x00\\x00\\x00\\x00\\x00',\n",
       "  b'\\xfc\\x14\\xba\\xecN\\xcb\\x1d>\\x8dnZ\\xce\\x03\\xf2\\x87\\xb9\\x1e\\x19\\xf8\\xd4\\xe8\\xcd\\xd7\\xb4\\x01ZV\\xb0\\x8c\\x85o\\xdc',\n",
       "  b'\\xf4\\x17\\x0f\\x1aL$<%i\\x05\\xba\\xb3.\\xeeL\\xa2i\\x07M\\xff\\xeb~\\xed{\\xad\\x94=\\xdf\\xa3q\\xf8[',\n",
       "  b'B\\xa7J!r[\\x8b\\xd5\\x86\\xfe\\x13\\xbbM\\xf8F\\x03^\\x15\\xa3\\x91NqE\\x9f\\xaf\\xdap\\x7f\\xae\\xe9~\\xf6',\n",
       "  b'\\x00\\x00\\x00\\x00\\x00\\x00\\x00\\x00\\x00\\x00\\x00\\x00\\x00\\x00\\x00\\x00\\x00\\x00\\x00\\x00\\x00\\x00\\x00\\x00\\x00\\x00\\x00\\x00\\x00\\x00\\x00\\x00\\x00\\x00\\x00\\x00\\x00\\x00\\x00\\x00\\x00\\x00\\x00\\x00\\x00\\x00\\x00\\x00\\x00\\x00\\x00\\x00\\x00\\x00\\x00\\x00\\x00\\x00\\x00\\x00\\x00\\x00\\x00\\x00\\x00\\x00\\x00\\x00\\x00\\x00\\x00\\x00\\x00@\\x00\\x00\\x00\\x00\\x00\\x00\\x00\\x00\\x00\\x00\\x00\\x00\\x00\\x00\\x00\\x10\\x80\\x00\\x00\\x00\\x00\\x00\\x00\\x00\\x00\\x00\\x00\\x00\\x00\\x00\\x00\\x00\\x00\\x00\\x00\\x00\\x04\\x00\\x00\\x00\\x00\\x00\\x00\\x00\\x00\\x00\\x00\\x00\\x00\\x00\\x00\\x00\\x00\\x00\\x00\\x00\\x00\\x00\\x00\\x00\\x00\\x00\\x00\\x00\\x00\\x00\\x00\\x00\\x00\\x00\\x00\\x00\\x00\\x00\\x00\\x00\\x00\\x00\\x00\\x00 \\x00\\x00\\x00\\x00\\x00\\x08\\x00\\x00\\x00\\x00\\x00\\x00\\x00\\x00\\x00\\x00\\x00\\x00\\x00\\x00\\x00\\x00\\x00\\x00\\x00\\x00\\x00\\x00\\x00\\x00\\x00\\x00\\x00\\x00\\x00\\x00\\x00\\x00\\x00\\x00\\x00\\x00\\x00\\x00\\x00\\x00\\x00\\x00\\x00\\x00\\x00\\x00\\x00\\x00\\x00\\x00\\x00\\x00\\x00\\x00\\x00\\x00\\x00\\x00\\x00\\x00\\x00\\x00\\x00\\x00\\x00\\x00\\x00\\x00\\x00\\x00\\x00\\x00\\x00\\x00\\x00\\x00\\x00\\x00\\x00\\x00\\x00\\x00\\x00\\x00\\x00\\x00\\x00\\x00\\x00\\x00\\x00\\x00\\x00\\x00\\x00',\n",
       "  b'\\x01',\n",
       "  b'\\x01',\n",
       "  b'\\xe4\\xe1\\xc0',\n",
       "  b'R\\x08',\n",
       "  b'hc\\xf9\\xe4',\n",
       "  b'\\x00\\x00\\x00\\x00\\x00\\x00\\x00\\x00\\x00\\x00\\x00\\x00\\x00\\x00\\x00\\x00\\x00\\x00\\x00\\x00\\x00\\x00\\x00\\x00\\x00\\x00\\x00\\x00\\x00\\x00\\x00\\x00\\x00\\x00\\x00\\x00\\x00\\x00\\x00\\x00\\x00\\x00\\x00\\x00\\x00\\x00\\x00\\x00\\x00\\x00\\x00\\x00\\x00\\x00\\x00\\x00\\x00\\x00\\x00\\x00\\x00\\x00\\x00\\x00\\x00\\x00\\x00\\x00\\x00\\x00\\x00\\x00\\x00\\x00\\x00\\x00\\x00\\x00\\x00\\x00\\x00\\x00\\x00\\x00\\x00\\x00',\n",
       "  b'\\x00\\x00\\x00\\x00\\x00\\x00\\x00\\x00\\x00\\x00\\x00\\x00\\x00\\x00\\x00\\x00\\x00\\x00\\x00\\x00\\x00\\x00\\x00\\x00\\x00\\x00\\x00\\x00\\x00\\x00\\x00\\x00',\n",
       "  b'\\x00\\x00\\x00\\x00\\x00\\x00\\x00\\x00',\n",
       "  b'V\\xe8\\x1f\\x17\\x1b\\xccU\\xa6\\xff\\x83E\\xe6\\x92\\xc0\\xf8n[H\\xe0\\x1b\\x99l\\xad\\xc0\\x01b/\\xb5\\xe3c\\xb4!',\n",
       "  b'4c\\x0b\\x8a\\x00',\n",
       "  b'',\n",
       "  b''],\n",
       " [[b'',\n",
       "   b'4c\\x0b\\x8a\\x00',\n",
       "   b'R\\x08',\n",
       "   b'\\x00\\x00\\x00\\x00\\x00\\x00\\x00\\x00\\x00\\x00\\x00\\x00\\x00\\x00\\x00\\x00\\x00\\x00\\xde\\xad',\n",
       "   b'\\x03\\x8d~\\xa4\\xc6\\x80\\x00',\n",
       "   b'',\n",
       "   b'\\x01h',\n",
       "   b\"\\xbd\\x9f0\\xf9\\xf8Rt\\xdf\\xafG\\x96'\\xdd\\xf8C\\\\\\xa0[\\xc9g\\xd8\\xd7\\xfb\\xfaf\\xe0}\\x1f|\\xfb\\x1f\\x87\",\n",
       "   b'v\\x9a\\xf7\\x99\\x93U\\xe4W\\x0c8x\\xf7\\xa2\\xf7\\x90x`\\xe2lf\\xe1\\xbf\\x82\\x18\\xcd\\x9a\\xc2\\xcd\\xcf\\xe4\\xd2\\xff']],\n",
       " [],\n",
       " b'',\n",
       " b'']"
      ]
     },
     "execution_count": 32,
     "metadata": {},
     "output_type": "execute_result"
    }
   ],
   "source": [
    "import json, rlp, sys, pathlib\n",
    "\n",
    "hex_str = '0xf902edf90276a0ae950c7fff81f412efc9a2e35146d1bd81acae17e90833759bf18f6d55869b55a01dcc4de8dec75d7aab85b567b6ccd41ad312451b948a7413f0a142fd40d49347940100000000000000000000000000000000000000a0fc14baec4ecb1d3e8d6e5ace03f287b91e19f8d4e8cdd7b4015a56b08c856fdca0f4170f1a4c243c256905bab32eee4ca269074dffeb7eed7bad943ddfa371f85ba042a74a21725b8bd586fe13bb4df846035e15a3914e71459fafda707faee97ef6b9010000000000000000000000000000000000000000000000000000000000000000000000000000000000000000000000000000000000000000000000000000000000000000000000000000400000000000000000000000000000001080000000000000000000000000000000000000000400000000000000000000000000000000000000000000000000000000000000000000000000000000000000200000000000080000000000000000000000000000000000000000000000000000000000000000000000000000000000000000000000000000000000000000000000000000000000000000000000000000000000000000000000000000000000000000000000010183e4e1c0825208846863f9e4b8560000000000000000000000000000000000000000000000000000000000000000000000000000000000000000000000000000000000000000000000000000000000000000000000000000000000000000000000000000a00000000000000000000000000000000000000000000000000000000000000000880000000000000000a056e81f171bcc55a6ff8345e692c0f86e5b48e01b996cadc001622fb5e363b4218534630b8a008080f86ff86d808534630b8a0082520894000000000000000000000000000000000000dead87038d7ea4c6800080820168a0bd9f30f9f85274dfaf479627ddf8435ca05bc967d8d7fbfa66e07d1f7cfb1f87a0769af7999355e4570c3878f7a2f7907860e26c66e1bf8218cd9ac2cdcfe4d2ffc080800c487d78'\n",
    "if hex_str.startswith(\"0x\"):\n",
    "    hex_str = hex_str[2:]\n",
    "\n",
    "raw = bytes.fromhex(hex_str)\n",
    "decoded = rlp.decode(raw, strict=False)          # → [header, txs, uncles]\n",
    "\n",
    "\n",
    "out = {\n",
    "    name: (\"0x\"+val.hex() if name not in {\n",
    "        \"difficulty\",\"number\",\"gasLimit\",\"gasUsed\",\"timestamp\",\"baseFeePerGas\"}\n",
    "        else b2i(val))\n",
    "    for name, val in zip(fields, header)\n",
    "}\n",
    "\n",
    "decoded\n"
   ]
  },
  {
   "cell_type": "code",
   "execution_count": 45,
   "id": "859859f1-9e6e-457c-b1dc-94d8ab50f7a1",
   "metadata": {},
   "outputs": [
    {
     "name": "stdout",
     "output_type": "stream",
     "text": [
      "0\n",
      "225000000000\n",
      "21000\n",
      "57005\n",
      "1000000000000000\n",
      "0\n",
      "360\n",
      "85768395088539845564665048521297002376692954095306703349142508973742007984007\n",
      "53646719452537043133514035925212437774493009094068298707569403365806664110847\n"
     ]
    }
   ],
   "source": [
    "def b2i(b): return int.from_bytes(b, \"big\") if b else 0\n",
    "\n",
    "fields = [\n",
    "    \"parentHash\", \"ommersHash\", \"beneficiary\", \"stateRoot\", \"transactionsRoot\",\n",
    "    \"receiptsRoot\", \"logsBloom\", \"difficulty\", \"number\", \"gasLimit\",\n",
    "    \"gasUsed\", \"timestamp\", \"extraData\", \"mixHash\", \"nonce\",\n",
    "]\n",
    "\n",
    "for j in decoded[1][0]:\n",
    "    print(b2i(j))"
   ]
  },
  {
   "cell_type": "code",
   "execution_count": 37,
   "id": "a3e7f466-d119-4486-81f3-a7b2eeddc1e6",
   "metadata": {},
   "outputs": [
    {
     "data": {
      "text/plain": [
       "19"
      ]
     },
     "execution_count": 37,
     "metadata": {},
     "output_type": "execute_result"
    }
   ],
   "source": [
    "len(decoded[0]"
   ]
  },
  {
   "cell_type": "code",
   "execution_count": 43,
   "id": "7042ec9c-087d-4007-9df5-5f7a00909b66",
   "metadata": {},
   "outputs": [
    {
     "data": {
      "text/plain": [
       "[[b'',\n",
       "  b'4c\\x0b\\x8a\\x00',\n",
       "  b'R\\x08',\n",
       "  b'\\x00\\x00\\x00\\x00\\x00\\x00\\x00\\x00\\x00\\x00\\x00\\x00\\x00\\x00\\x00\\x00\\x00\\x00\\xde\\xad',\n",
       "  b'\\x03\\x8d~\\xa4\\xc6\\x80\\x00',\n",
       "  b'',\n",
       "  b'\\x01h',\n",
       "  b\"\\xbd\\x9f0\\xf9\\xf8Rt\\xdf\\xafG\\x96'\\xdd\\xf8C\\\\\\xa0[\\xc9g\\xd8\\xd7\\xfb\\xfaf\\xe0}\\x1f|\\xfb\\x1f\\x87\",\n",
       "  b'v\\x9a\\xf7\\x99\\x93U\\xe4W\\x0c8x\\xf7\\xa2\\xf7\\x90x`\\xe2lf\\xe1\\xbf\\x82\\x18\\xcd\\x9a\\xc2\\xcd\\xcf\\xe4\\xd2\\xff']]"
      ]
     },
     "execution_count": 43,
     "metadata": {},
     "output_type": "execute_result"
    }
   ],
   "source": [
    "decoded[1]"
   ]
  },
  {
   "cell_type": "code",
   "execution_count": null,
   "id": "953d729c-09dd-4422-a9c4-93dd5fb7b218",
   "metadata": {},
   "outputs": [],
   "source": []
  }
 ],
 "metadata": {
  "kernelspec": {
   "display_name": "block-collector",
   "language": "python",
   "name": "block-collector"
  },
  "language_info": {
   "codemirror_mode": {
    "name": "ipython",
    "version": 3
   },
   "file_extension": ".py",
   "mimetype": "text/x-python",
   "name": "python",
   "nbconvert_exporter": "python",
   "pygments_lexer": "ipython3",
   "version": "3.12.3"
  }
 },
 "nbformat": 4,
 "nbformat_minor": 5
}
